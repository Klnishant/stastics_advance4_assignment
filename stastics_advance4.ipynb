{
 "cells": [
  {
   "cell_type": "markdown",
   "id": "dc73fac9-80b2-423e-8750-1f8fddfa80a5",
   "metadata": {},
   "source": [
    "Q1: What is the difference between a t-test and a z-test? Provide an example scenario where you would\n",
    "use each type of test."
   ]
  },
  {
   "cell_type": "markdown",
   "id": "deefebd4-da9d-47a8-9ef5-93b1b892f658",
   "metadata": {},
   "source": [
    "Ans-> Both t-test and z-test are statistical tests used to make inferences about population parameters using sample data. However, they differ in their assumptions about the population and sample size.\n",
    "\n",
    "A t-test is used when the sample size is small (typically less than 30) or the population standard deviation is unknown. It assumes that the sample comes from a normally distributed population. The t-test compares the means of two independent samples or paired samples to test if they are significantly different.\n",
    "\n",
    "For example, a t-test could be used to compare the average test scores of two groups of students who have received different teaching methods.\n",
    "\n",
    "A z-test, on the other hand, is used when the sample size is large (typically greater than 30) and the population standard deviation is known. It assumes that the sample comes from a normally distributed population. The z-test compares the means of two independent samples or a single sample to a known population mean.\n",
    "\n",
    "For example, a z-test could be used to compare the average weight of a sample of apples to the average weight of all apples produced by a farm.\n",
    "\n",
    "In summary, t-tests are used when the sample size is small or the population standard deviation is unknown, while z-tests are used when the sample size is large and the population standard deviation is known."
   ]
  },
  {
   "cell_type": "markdown",
   "id": "1ca42071-ac8e-423b-8920-aa28227156b7",
   "metadata": {},
   "source": [
    "Q2: Differentiate between one-tailed and two-tailed tests."
   ]
  },
  {
   "cell_type": "markdown",
   "id": "5d912742-636b-41ac-b080-f7d386435f9a",
   "metadata": {},
   "source": [
    "Ans--> In statistical hypothesis testing, a one-tailed test (also known as a directional test) and a two-tailed test (also known as a nondirectional test) refer to the types of hypotheses that are being tested.\n",
    "\n",
    "A one-tailed test is used when the null hypothesis is only rejected if the observed data falls into one tail (or one direction) of the distribution. In other words, the alternative hypothesis only claims that there is an effect in a specific direction. For example, a researcher might hypothesize that a new medication will increase the average response time of participants in a cognitive task, so the one-tailed test would look for evidence that the response time has increased. The critical region is defined only on one side of the sampling distribution.\n",
    "\n",
    "A two-tailed test is used when the null hypothesis is rejected if the observed data falls into either tail (either direction) of the distribution. In other words, the alternative hypothesis claims that there is an effect, but does not specify the direction of the effect. For example, a researcher might hypothesize that a new medication will have an effect on response time, so the two-tailed test would look for evidence that the response time has changed, either increased or decreased. The critical region is defined on both sides of the sampling distribution.\n",
    "\n",
    "The choice between a one-tailed test and a two-tailed test depends on the specific research question and the directionality of the hypothesis. One-tailed tests can be more powerful (i.e., have a greater chance of detecting a true effect) if the researcher has a strong theoretical or empirical reason to believe that the effect only exists in one direction. Two-tailed tests are more appropriate when there is no a priori reason to expect a specific direction of effect."
   ]
  },
  {
   "cell_type": "markdown",
   "id": "b2280ba0-f4da-4e9b-b4d5-012f538f4d81",
   "metadata": {},
   "source": [
    "Q3: Explain the concept of Type 1 and Type 2 errors in hypothesis testing. Provide an example scenario for\n",
    "each type of error."
   ]
  },
  {
   "cell_type": "markdown",
   "id": "c19e332a-a966-425f-a938-79254fff0a4d",
   "metadata": {},
   "source": [
    "Ans--> In hypothesis testing, two types of errors can occur: Type 1 error and Type 2 error.\n",
    "\n",
    "Type 1 error is also known as a false positive error, and it occurs when the null hypothesis is rejected when it is actually true. In other words, Type 1 error happens when a researcher concludes that there is a significant effect or difference in a population, when in reality there is no such effect or difference. Type 1 errors are generally considered to be more serious than Type 2 errors. The level of significance (alpha) for a statistical test determines the probability of making a Type 1 error, and typically set at 0.05 or 0.01.\n",
    "\n",
    "Example of a Type 1 error: A pharmaceutical company tests a new drug to treat a particular medical condition. The null hypothesis is that the drug has no effect on the condition. The company conducts a statistical test and finds that there is a significant difference between the drug and the placebo. However, in reality, the drug has no effect, and the significant difference was due to random variation in the data. The company concludes that the drug is effective, when in fact it is not.\n",
    "\n",
    "Type 2 error is also known as a false negative error, and it occurs when the null hypothesis is not rejected when it is actually false. In other words, Type 2 error happens when a researcher fails to conclude that there is a significant effect or difference in a population, when in reality there is such an effect or difference. The power of a statistical test determines the probability of making a Type 2 error.\n",
    "\n",
    "Example of a Type 2 error: A company has developed a new advertising campaign to increase sales of a product. The null hypothesis is that the campaign will have no effect on sales. The company conducts a statistical test, but fails to reject the null hypothesis, concluding that the campaign had no effect. However, in reality, the campaign did increase sales, and the failure to detect the effect was due to a lack of statistical power or a small sample size.\n",
    "\n",
    "In summary, Type 1 error occurs when a true null hypothesis is mistakenly rejected, and Type 2 error occurs when a false null hypothesis is not rejected. Both errors can have serious consequences, and it is important to minimize the probability of both errors in hypothesis testing."
   ]
  },
  {
   "cell_type": "markdown",
   "id": "3dbe9252-2a88-4f2a-9346-909cf94d86be",
   "metadata": {},
   "source": [
    "Q4: Explain Bayes's theorem with an example."
   ]
  },
  {
   "cell_type": "markdown",
   "id": "3d64f931-ffa2-46eb-a5e4-7f0332ea2738",
   "metadata": {},
   "source": [
    "Ans--> Bayes's theorem is a statistical concept that describes the probability of an event, given prior knowledge of related conditions. It allows us to update our beliefs or probabilities about a hypothesis or event, based on new evidence or information.\n",
    "\n",
    "Bayes's theorem can be expressed as:\n",
    "\n",
    "P(A|B) = (P(B|A) * P(A)) / P(B)\n",
    "\n",
    "where P(A|B) is the posterior probability, or the probability of event A given that event B has occurred. P(B|A) is the likelihood, or the probability of event B given that event A has occurred. P(A) is the prior probability, or the probability of event A before any evidence is considered. P(B) is the marginal likelihood, or the probability of event B occurring regardless of any other variables.\n",
    "\n",
    "Example:\n",
    "\n",
    "Suppose we have a medical test that is designed to detect a particular disease. The test is known to be 99% accurate, meaning that the probability of a positive result when the person has the disease is 0.99, and the probability of a negative result when the person does not have the disease is 0.99.\n",
    "\n",
    "Assume that the prevalence of the disease is 1 in 1000 in the population. This means that P(A), the prior probability of having the disease, is 0.001.\n",
    "\n",
    "If a person tests positive for the disease, what is the probability that they actually have the disease?\n",
    "\n",
    "P(A|B) = (P(B|A) * P(A)) / P(B)\n",
    "\n",
    "P(B|A) = 0.99 (the probability of a positive test result when the person has the disease)\n",
    "P(A) = 0.001 (the prior probability of having the disease)\n",
    "P(B) = (P(B|A) * P(A)) + (P(B|not A) * P(not A))\n",
    "P(B) = (0.99 * 0.001) + (0.01 * 0.999)\n",
    "P(B) = 0.01098\n",
    "\n",
    "Therefore, the posterior probability of having the disease, given a positive test result, is:\n",
    "\n",
    "P(A|B) = (0.99 * 0.001) / 0.01098\n",
    "P(A|B) = 0.09017\n",
    "\n",
    "This means that there is a 9.02% chance that the person actually has the disease, given a positive test result. Even though the test is highly accurate, the low prevalence of the disease in the population means that a positive test result is more likely to be a false positive than a true positive."
   ]
  },
  {
   "cell_type": "markdown",
   "id": "bb9abdad-c341-402e-806c-43e78e2b4143",
   "metadata": {},
   "source": [
    "Q5: What is a confidence interval? How to calculate the confidence interval, explain with an example."
   ]
  },
  {
   "cell_type": "markdown",
   "id": "27aa2fac-cbe0-4ed9-aafc-2275b80ff600",
   "metadata": {},
   "source": [
    "Ans--> A confidence interval is a range of values that is likely to contain the true value of a population parameter, such as a population mean or proportion. It is a measure of the uncertainty associated with an estimate, based on a sample from the population.\n",
    "\n",
    "The confidence interval is calculated using a point estimate of the population parameter, such as the sample mean or proportion, and a margin of error that accounts for the variability in the sample and the desired level of confidence.\n",
    "\n",
    "The formula for a confidence interval for a population mean, with a sample size of n, sample mean of x̄, sample standard deviation of s, and a desired level of confidence of (1 - α), where α is the significance level or the level of risk for making a Type 1 error, is:\n",
    "\n",
    "x̄ ± z*(s/√n)\n",
    "\n",
    "where z is the critical value from the standard normal distribution, based on the level of confidence. For example, for a 95% confidence level, z = 1.96.\n",
    "\n",
    "Example:\n",
    "\n",
    "Suppose we want to estimate the average height of a population of adult males in a certain city. We take a random sample of 50 adult males and measure their heights. The sample mean height is 175 cm, and the sample standard deviation is 10 cm.\n",
    "\n",
    "To calculate a 95% confidence interval for the population mean height, we use the formula:\n",
    "\n",
    "175 ± 1.96*(10/√50)\n",
    "\n",
    "= 175 ± 2.82\n",
    "\n",
    "The resulting confidence interval is (172.18, 177.82). This means that we can be 95% confident that the true population mean height falls within this range.\n",
    "\n",
    "This interpretation of the confidence interval is important: it is not a probability statement about the true parameter, but rather a statement about the process of estimating the parameter from a sample. In repeated sampling, we would expect 95% of the resulting confidence intervals to contain the true population mean."
   ]
  },
  {
   "cell_type": "markdown",
   "id": "143c23ea-f420-43d2-9af4-0e23a0be0fd7",
   "metadata": {},
   "source": [
    "Q6. Use Bayes' Theorem to calculate the probability of an event occurring given prior knowledge of the\n",
    "event's probability and new evidence. Provide a sample problem and solution."
   ]
  },
  {
   "cell_type": "markdown",
   "id": "f58e28f7-48bb-4943-af0b-a0fe8ff0c3df",
   "metadata": {},
   "source": [
    "Ans--> Problem:\n",
    "Suppose there is a rare disease that affects 1 in 10,000 people in a population. A test has been developed to diagnose the disease, which is 99% accurate in detecting the disease when it is present, but also has a 1% false positive rate (meaning that it reports a positive result even when the disease is not present). If someone tests positive for the disease, what is the probability that they actually have the disease?\n",
    "\n",
    "Solution:\n",
    "To solve this problem using Bayes' theorem, we need to use the following information:\n",
    "\n",
    "P(A) = the prior probability of having the disease, which is 1 in 10,000 or 0.0001.\n",
    "P(B|A) = the probability of testing positive for the disease given that the person actually has the disease, which is 0.99 or 99%.\n",
    "P(B|not A) = the probability of testing positive for the disease given that the person does not have the disease, which is 0.01 or 1% (this is the false positive rate).\n",
    "P(not A) = the complement of the prior probability, which is 1 - 0.0001 or 0.9999.\n",
    "Using these probabilities, we can calculate the probability of actually having the disease given a positive test result:\n",
    "\n",
    "P(A|B) = P(B|A) * P(A) / [P(B|A) * P(A) + P(B|not A) * P(not A)]\n",
    "\n",
    "Plugging in the values, we get:\n",
    "\n",
    "P(A|B) = 0.99 * 0.0001 / [0.99 * 0.0001 + 0.01 * 0.9999]\n",
    "P(A|B) = 0.0098 or about 0.98%\n",
    "\n",
    "So the probability that someone who tests positive for the disease actually has the disease is only about 0.98%. This is a surprisingly low probability, despite the test being quite accurate. This is because the rarity of the disease means that there are many more false positives than true positives, and the false positive rate of the test is not negligible.\n",
    "\n",
    "Therefore, while the test may be useful as a screening tool to identify potential cases of the disease, it is important to follow up with more specific diagnostic tests to confirm whether a positive result is truly indicative of the disease."
   ]
  },
  {
   "cell_type": "markdown",
   "id": "78ecf5be-c0ce-4ace-a0a6-3c8fac9beccd",
   "metadata": {},
   "source": [
    "Q7. Calculate the 95% confidence interval for a sample of data with a mean of 50 and a standard deviation\n",
    "of 5. Interpret the results."
   ]
  },
  {
   "cell_type": "markdown",
   "id": "96172f52-be7b-412d-8a34-6cf484b3ef18",
   "metadata": {},
   "source": [
    "Ans--> To calculate the 95% confidence interval for a sample of data with a mean of 50 and a standard deviation of 5, we need to use the formula:\n",
    "\n",
    "CI = x̄ ± z*(s/√n)\n",
    "\n",
    "where x̄ is the sample mean, s is the sample standard deviation, n is the sample size, z is the critical value from the standard normal distribution at the 95% confidence level, which is 1.96.\n",
    "\n",
    "Plugging in the values, we get:\n",
    "\n",
    "CI = 50 ± 1.96*(5/√n)\n",
    "\n",
    "Since the sample size is not provided in the question, we can't give an exact value for the confidence interval. However, we can provide some general interpretations.\n",
    "\n",
    "For a larger sample size, the confidence interval will be narrower, indicating greater precision in the estimate of the population mean. For example, if the sample size is 100, then the 95% confidence interval would be:\n",
    "\n",
    "CI = 50 ± 1.96*(5/√100) = 50 ± 0.98\n",
    "\n",
    "So the 95% confidence interval would be (49.02, 50.98).\n",
    "\n",
    "Interpretation:\n",
    "We can interpret the 95% confidence interval as follows: if we were to take many random samples of the same size from the population and calculate their mean, we would expect about 95% of the resulting confidence intervals to contain the true population mean. In other words, we are 95% confident that the true population mean falls within the range of values given by the confidence interval.\n",
    "\n",
    "In this specific case, we are 95% confident that the true population mean falls within some range centered around the sample mean of 50, with a margin of error determined by the standard deviation and the sample size. The confidence interval provides a measure of the precision and uncertainty associated with our estimate of the population mean based on the sample."
   ]
  },
  {
   "cell_type": "markdown",
   "id": "0e794ada-b98f-4267-adaa-0e013286f653",
   "metadata": {},
   "source": [
    "Q8. What is the margin of error in a confidence interval? How does sample size affect the margin of error?\n",
    "Provide an example of a scenario where a larger sample size would result in a smaller margin of error."
   ]
  },
  {
   "cell_type": "markdown",
   "id": "de8defac-5549-4cf6-ae9e-a047f1421c3b",
   "metadata": {},
   "source": [
    "Ans--> The margin of error in a confidence interval is the range of values above and below the sample estimate of a population parameter (such as the mean or proportion) that is likely to contain the true population parameter with a certain level of confidence. The margin of error is affected by the sample size, level of confidence, and variability in the data.\n",
    "\n",
    "As the sample size increases, the margin of error decreases, assuming the level of confidence and variability in the data remain constant. This is because a larger sample size provides more information about the population, which leads to a more precise estimate of the population parameter. As a result, the range of values above and below the sample estimate that is likely to contain the true population parameter becomes narrower.\n",
    "\n",
    "For example, let's say we want to estimate the average height of students in a particular university. We take a random sample of 50 students and calculate their average height to be 68 inches, with a standard deviation of 3 inches. If we want to calculate a 95% confidence interval for the population mean height, the margin of error would be:\n",
    "\n",
    "Margin of error = 1.96 * (3 / sqrt(50)) ≈ 0.83\n",
    "\n",
    "So the 95% confidence interval for the population mean height would be:\n",
    "\n",
    "CI = 68 ± 0.83 or (67.17, 68.83)\n",
    "\n",
    "Now suppose we increase the sample size to 200. Everything else being equal, the margin of error would become smaller:\n",
    "\n",
    "Margin of error = 1.96 * (3 / sqrt(200)) ≈ 0.67\n",
    "\n",
    "So the 95% confidence interval for the population mean height would be:\n",
    "\n",
    "CI = 68 ± 0.67 or (67.33, 68.67)\n",
    "\n",
    "This shows how a larger sample size results in a smaller margin of error, indicating a more precise estimate of the population mean."
   ]
  },
  {
   "cell_type": "markdown",
   "id": "976a77a9-ca6a-48eb-8a8a-81cc4b60968d",
   "metadata": {},
   "source": [
    "Q9. Calculate the z-score for a data point with a value of 75, a population mean of 70, and a population\n",
    "standard deviation of 5. Interpret the results."
   ]
  },
  {
   "cell_type": "markdown",
   "id": "1bc1ecae-b367-45c8-adef-21ac2cde9f60",
   "metadata": {},
   "source": [
    "Ans--> The z-score is a measure of how many standard deviations a data point is away from the population mean. It is calculated as:\n",
    "\n",
    "z = (x - μ) / σ\n",
    "\n",
    "where x is the data point, μ is the population mean, and σ is the population standard deviation.\n",
    "\n",
    "Plugging in the values, we get:\n",
    "\n",
    "z = (75 - 70) / 5 = 1\n",
    "\n",
    "So the z-score for the data point with a value of 75 is 1.\n",
    "\n",
    "Interpretation:\n",
    "The z-score of 1 indicates that the data point is 1 standard deviation above the population mean. In other words, it is above average compared to the rest of the population. Since we know the population mean and standard deviation, we can use the z-score to find the probability of observing a data point as extreme or more extreme than 75. We can use a z-table or a calculator to find that the probability of observing a z-score of 1 or more extreme is about 0.1587, or 15.87%. This means that if the population is normally distributed, we would expect 15.87% of the data points to be as extreme or more extreme than 75."
   ]
  },
  {
   "cell_type": "markdown",
   "id": "13045cb7-b1c4-4174-a2fb-7c8979006b6d",
   "metadata": {},
   "source": [
    "Q10. In a study of the effectiveness of a new weight loss drug, a sample of 50 participants lost an average\n",
    "of 6 pounds with a standard deviation of 2.5 pounds. Conduct a hypothesis test to determine if the drug is\n",
    "significantly effective at a 95% confidence level using a t-test."
   ]
  },
  {
   "cell_type": "markdown",
   "id": "131a30d1-714a-4e31-b4b2-3e299b364b31",
   "metadata": {},
   "source": [
    "Ans--> To conduct a hypothesis test to determine if the new weight loss drug is significantly effective at a 95% confidence level, we need to follow these steps:\n",
    "\n",
    "Step 1: State the null and alternative hypotheses.\n",
    "\n",
    "Null hypothesis (H0): The mean weight loss with the new drug is not significantly different from zero.\n",
    "Alternative hypothesis (Ha): The mean weight loss with the new drug is significantly different from zero.\n",
    "Step 2: Determine the level of significance and select the appropriate test.\n",
    "\n",
    "The level of significance is 0.05, which corresponds to a 95% confidence level.\n",
    "Since the sample size is less than 30 and the population standard deviation is unknown, we will use a t-test.\n",
    "Step 3: Calculate the test statistic and p-value.\n",
    "\n",
    "The test statistic is calculated as:\n",
    "t = (x̄ - μ) / (s / √n)\n",
    "where x̄ is the sample mean, μ is the hypothesized population mean (0 in this case), s is the sample standard deviation, and n is the sample size.\n",
    "Substituting the values, we get:\n",
    "t = (6 - 0) / (2.5 / √50) ≈ 15.81\n",
    "The p-value is the probability of obtaining a test statistic as extreme or more extreme than the observed one, assuming the null hypothesis is true. Using a t-table or a calculator, we find that the p-value is less than 0.0001 (extremely small).\n",
    "Step 4: Make a decision and interpret the results.\n",
    "\n",
    "Since the p-value is less than the level of significance (0.05), we reject the null hypothesis.\n",
    "This means that we have sufficient evidence to conclude that the mean weight loss with the new drug is significantly different from zero at a 95% confidence level."
   ]
  },
  {
   "cell_type": "markdown",
   "id": "9b730b19-8535-4e46-8f32-997163ec2566",
   "metadata": {},
   "source": [
    "Q11. In a survey of 500 people, 65% reported being satisfied with their current job. Calculate the 95%\n",
    "confidence interval for the true proportion of people who are satisfied with their job."
   ]
  },
  {
   "cell_type": "markdown",
   "id": "1a62323d-ea33-4afd-9a8f-044eee73a022",
   "metadata": {},
   "source": [
    "Ans--> To calculate the 95% confidence interval for the true proportion of people who are satisfied with their job, we can use the following formula:\n",
    "\n",
    "CI = p ± z*(sqrt(p*(1-p)/n))\n",
    "\n",
    "where CI is the confidence interval, p is the proportion of people who are satisfied with their job, z is the z-score corresponding to the desired confidence level (in this case, 1.96 for 95% confidence), and n is the sample size.\n",
    "\n",
    "Plugging in the values we have:\n",
    "\n",
    "p = 0.65 (proportion of people satisfied with their job)\n",
    "z = 1.96 (z-score for 95% confidence)\n",
    "n = 500 (sample size)\n",
    "\n",
    "CI = 0.65 ± 1.96*(sqrt(0.65*(1-0.65)/500))\n",
    "\n",
    "Simplifying the expression:\n",
    "\n",
    "CI = 0.65 ± 0.039\n",
    "\n",
    "Therefore, the 95% confidence interval for the true proportion of people who are satisfied with their job is:\n",
    "\n",
    "CI = (0.611, 0.689)\n",
    "\n",
    "This means that we can be 95% confident that the true proportion of people who are satisfied with their job lies between 0.611 and 0.689."
   ]
  },
  {
   "cell_type": "markdown",
   "id": "05c64051-33ec-46a1-ac92-4459f21c6acc",
   "metadata": {},
   "source": [
    "Q12. A researcher is testing the effectiveness of two different teaching methods on student performance.\n",
    "Sample A has a mean score of 85 with a standard deviation of 6, while sample B has a mean score of 82\n",
    "with a standard deviation of 5. Conduct a hypothesis test to determine if the two teaching methods have a\n",
    "significant difference in student performance using a t-test with a significance level of 0.01."
   ]
  },
  {
   "cell_type": "markdown",
   "id": "31849782-5ffd-4ba3-808d-483679c5b028",
   "metadata": {},
   "source": [
    "Ans--> To conduct a hypothesis test to determine if the two teaching methods have a significant difference in student performance, we will use a two-sample t-test with a significance level of 0.01.\n",
    "\n",
    "The null hypothesis is that the means of the two samples are equal, and the alternative hypothesis is that they are not equal. Mathematically,\n",
    "\n",
    "H0: μA = μB\n",
    "Ha: μA ≠ μB\n",
    "\n",
    "where μA is the population mean score for sample A, and μB is the population mean score for sample B.\n",
    "\n",
    "We will use the following formula to calculate the t-statistic:\n",
    "\n",
    "t = (x̄A - x̄B) / (sqrt(Sp²/nA + Sp²/nB))\n",
    "\n",
    "where x̄A and x̄B are the sample means, nA and nB are the sample sizes, and Sp is the pooled standard deviation given by:\n",
    "\n",
    "Sp = sqrt(((nA-1)*sA² + (nB-1)*sB²) / (nA+nB-2))\n",
    "\n",
    "where sA and sB are the sample standard deviations.\n",
    "\n",
    "Plugging in the values we have:\n",
    "\n",
    "x̄A = 85\n",
    "sA = 6\n",
    "nA = ?\n",
    "x̄B = 82\n",
    "sB = 5\n",
    "nB = ?\n",
    "α = 0.01\n",
    "\n",
    "We need to determine the sample sizes for each group. Without this information, we cannot calculate the t-statistic.\n",
    "\n",
    "Assuming that the sample sizes are equal (nA = nB = n), we can solve for n using the following formula:\n",
    "\n",
    "tα/2,n-1 = t\n",
    "\n",
    "where tα/2,n-1 is the t-value for a two-tailed test with a significance level of α/2 and n-1 degrees of freedom. Since we have α = 0.01 and a two-tailed test, we need to look up the t-value for a significance level of 0.005 (0.01/2) and degrees of freedom (df) equal to 2n - 2. Using a t-table or a calculator, we find that t0.005,2n-2 = 3.579.\n",
    "\n",
    "Now we can solve for n:\n",
    "\n",
    "3.579 = (85-82) / (sqrt(((n-1)*6² + (n-1)*5²) / (2n-2)))\n",
    "\n",
    "Simplifying this expression, we get:\n",
    "\n",
    "n = 42.16\n",
    "\n",
    "Since we need a whole number for the sample size, we can round up to n = 43.\n",
    "\n",
    "Now we can calculate the t-statistic:\n",
    "\n",
    "Sp = sqrt(((42-1)*6² + (42-1)*5²) / (42+42-2)) = 5.42\n",
    "\n",
    "t = (85-82) / (sqrt(5.42²/43 + 5.42²/43)) = 2.97\n",
    "\n",
    "The degrees of freedom for this test is 2n-2 = 84.\n",
    "\n",
    "Using a t-table or a calculator, we can find the critical t-value for a two-tailed test with a significance level of 0.01 and 84 degrees of freedom. The critical t-value is ±2.65.\n",
    "\n",
    "Since the calculated t-statistic (2.97) is greater than the critical t-value (2.65), we can reject the null hypothesis and conclude that there is a significant difference in student performance between the two teaching methods at the 0.01 level of significance."
   ]
  },
  {
   "cell_type": "markdown",
   "id": "6291ba0e-bda5-419f-82e6-78863a495da4",
   "metadata": {},
   "source": [
    "Q13. A population has a mean of 60 and a standard deviation of 8. A sample of 50 observations has a mean\n",
    "of 65. Calculate the 90% confidence interval for the true population mean."
   ]
  },
  {
   "cell_type": "markdown",
   "id": "1922dc5d-f395-4801-b2e0-765cecf4ea99",
   "metadata": {},
   "source": [
    "Ans--> To calculate the 90% confidence interval for the true population mean, we can use the following formula:\n",
    "\n",
    "CI = x̄ ± z*(s/√n)\n",
    "\n",
    "where CI is the confidence interval, x̄ is the sample mean, z is the z-score corresponding to the desired confidence level (in this case, 1.645 for 90% confidence), s is the sample standard deviation, and n is the sample size.\n",
    "\n",
    "Plugging in the values we have:\n",
    "\n",
    "x̄ = 65 (sample mean)\n",
    "z = 1.645 (z-score for 90% confidence)\n",
    "s = 8 (population standard deviation)\n",
    "n = 50 (sample size)\n",
    "\n",
    "CI = 65 ± 1.645*(8/√50)\n",
    "\n",
    "Simplifying the expression:\n",
    "\n",
    "CI = 65 ± 2.32\n",
    "\n",
    "Therefore, the 90% confidence interval for the true population mean is:\n",
    "\n",
    "CI = (62.68, 67.32)\n",
    "\n",
    "This means that we can be 90% confident that the true population mean lies between 62.68 and 67.32."
   ]
  },
  {
   "cell_type": "markdown",
   "id": "13a19eb4-5f65-49fe-badb-495c3741302e",
   "metadata": {},
   "source": [
    "Q14. In a study of the effects of caffeine on reaction time, a sample of 30 participants had an average\n",
    "reaction time of 0.25 seconds with a standard deviation of 0.05 seconds. Conduct a hypothesis test to\n",
    "determine if the caffeine has a significant effect on reaction time at a 90% confidence level using a t-test."
   ]
  },
  {
   "cell_type": "markdown",
   "id": "29092b53-5b12-4033-a63e-4cc83f27d8d3",
   "metadata": {},
   "source": [
    "Ans--> To conduct a hypothesis test to determine if caffeine has a significant effect on reaction time at a 90% confidence level using a t-test, we need to set up the null and alternative hypotheses and the significance level:\n",
    "\n",
    "Null Hypothesis (H0): Caffeine does not have a significant effect on reaction time.\n",
    "Alternative Hypothesis (Ha): Caffeine has a significant effect on reaction time.\n",
    "Significance Level: α = 0.10 (90% confidence level)\n",
    "\n",
    "We can use a one-sample t-test to test this hypothesis, where the sample mean is compared to the hypothesized population mean.\n",
    "\n",
    "The t-test statistic is calculated as:\n",
    "\n",
    "t = (x̄ - μ) / (s / √n)\n",
    "\n",
    "where x̄ is the sample mean, μ is the hypothesized population mean (which is 0.25 seconds in this case), s is the sample standard deviation, and n is the sample size.\n",
    "\n",
    "Plugging in the values we have:\n",
    "\n",
    "x̄ = 0.25\n",
    "μ = 0.25\n",
    "s = 0.05\n",
    "n = 30\n",
    "\n",
    "t = (0.25 - 0.25) / (0.05 / √30)\n",
    "\n",
    "Simplifying the expression:\n",
    "\n",
    "t = 0 / 0.00914\n",
    "\n",
    "t = 0\n",
    "\n",
    "The calculated t-value is 0, which means that the sample mean is exactly equal to the hypothesized population mean.\n",
    "\n",
    "The critical t-value for a two-tailed t-test with 29 degrees of freedom at a significance level of 0.10 is ±1.699.\n",
    "\n",
    "Since the calculated t-value of 0 is less than the critical t-value of 1.699, we fail to reject the null hypothesis. Therefore, we can conclude that there is not enough evidence to suggest that caffeine has a significant effect on reaction time at a 90% confidence level."
   ]
  },
  {
   "cell_type": "code",
   "execution_count": null,
   "id": "3daf5f4b-9cc7-4091-ba3a-faf86092b6f5",
   "metadata": {},
   "outputs": [],
   "source": []
  }
 ],
 "metadata": {
  "kernelspec": {
   "display_name": "Python 3 (ipykernel)",
   "language": "python",
   "name": "python3"
  },
  "language_info": {
   "codemirror_mode": {
    "name": "ipython",
    "version": 3
   },
   "file_extension": ".py",
   "mimetype": "text/x-python",
   "name": "python",
   "nbconvert_exporter": "python",
   "pygments_lexer": "ipython3",
   "version": "3.10.8"
  }
 },
 "nbformat": 4,
 "nbformat_minor": 5
}
